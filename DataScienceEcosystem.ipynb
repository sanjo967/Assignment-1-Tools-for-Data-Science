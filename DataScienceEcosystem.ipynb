{
 "cells": [
  {
   "cell_type": "markdown",
   "id": "f171641d-f4b4-4322-8248-d70526c8871f",
   "metadata": {},
   "source": [
    "# Data Science Ecosystem"
   ]
  },
  {
   "cell_type": "markdown",
   "id": "67770858-27c1-46b8-82a6-75b7619948bb",
   "metadata": {},
   "source": [
    "In this notebook, Data Science Tools and Ecosystem are summarized."
   ]
  },
  {
   "cell_type": "markdown",
   "id": "7bcc8d1a-82b0-4e4b-8a8e-d9d1c1fda85b",
   "metadata": {},
   "source": [
    "Some of the popular languages that Data Scientists use are:\n",
    "1. Python\n",
    "2. SQL\n",
    "3. R"
   ]
  },
  {
   "cell_type": "markdown",
   "id": "6d4f3ae2-3bc6-49d9-a738-7644ff890c52",
   "metadata": {},
   "source": [
    "|Data Science Tools|\n",
    "|------------------|\n",
    "|R Studio|\n",
    "|JupyterLab|\n",
    "|GitHub|"
   ]
  },
  {
   "cell_type": "markdown",
   "id": "3d7c5d9d-4b10-4220-981d-0feeca868668",
   "metadata": {},
   "source": [
    "Some of the commonly used libraries used by Data Scientists include:\n",
    "\n",
    "1. Pandas\n",
    "2. Num Py\n",
    "3. Seaborn "
   ]
  },
  {
   "cell_type": "markdown",
   "id": "2f3c7cac-a7ee-44ac-a34c-bb943872145c",
   "metadata": {},
   "source": [
    "### Below are a few examples of evaluating arithmetic expressions in Python. \n",
    "\n"
   ]
  },
  {
   "cell_type": "code",
   "execution_count": 1,
   "id": "edb78db9-f45b-4350-a8c0-7e01678e3810",
   "metadata": {
    "editable": true,
    "slideshow": {
     "slide_type": ""
    },
    "tags": []
   },
   "outputs": [
    {
     "data": {
      "text/plain": [
       "17"
      ]
     },
     "execution_count": 1,
     "metadata": {},
     "output_type": "execute_result"
    }
   ],
   "source": [
    "# This a simple arithmetic expression to mutiply then add integers.\n",
    "(3*4)+5"
   ]
  },
  {
   "cell_type": "markdown",
   "id": "a2ab1a57-583b-471b-b2fb-e95244ae4860",
   "metadata": {},
   "source": [
    "**Objectives:**\n",
    "\n",
    "* Popular Languages that Data Scientists use\n",
    "* Data Science Tools\n",
    "* Examples of Evaluating Arithmetic Expressions in Python\n",
    "  "
   ]
  },
  {
   "cell_type": "markdown",
   "id": "20c99566-57b9-4202-96d0-098b8e3cd448",
   "metadata": {},
   "source": [
    "## Author\n",
    "Olusanjo Babatunde"
   ]
  }
 ],
 "metadata": {
  "kernelspec": {
   "display_name": "Python 3 (ipykernel)",
   "language": "python",
   "name": "python3"
  },
  "language_info": {
   "codemirror_mode": {
    "name": "ipython",
    "version": 3
   },
   "file_extension": ".py",
   "mimetype": "text/x-python",
   "name": "python",
   "nbconvert_exporter": "python",
   "pygments_lexer": "ipython3",
   "version": "3.11.9"
  }
 },
 "nbformat": 4,
 "nbformat_minor": 5
}
